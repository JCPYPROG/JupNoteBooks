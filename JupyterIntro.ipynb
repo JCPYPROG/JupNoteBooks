{
 "cells": [
  {
   "cell_type": "markdown",
   "metadata": {},
   "source": [
    "# Welcome to Jupyter Notebooks!\n",
    "#### Author: Jamie Ridley\n",
    "\n",
    "<!--These obnoxious arrows, dashes, and exclamation mark tell Markdown to not render anything between them. They are \"commented-out\".-->\n",
    "\n",
    "<!--Your basic link form is [Text to display](Link destination). There are other ways of doing them, but this is the neatest.]-->\n",
    "\n",
    "## Contents\n",
    "1. [Intro](#Welcome-to-Jupyter-Notebooks!) <!--(Link text is different to link destination)-->\n",
    "2. [Markdown Syntax](#Markdown-Styles-⤴) <!--(Take care to include any symbols that are part of the heading)-->\n",
    " 1. [Body Text](#Body-Text)\n",
    " 2. [Structure](#Structure)\n",
    " 3. [Headings](#Headings)\n",
    " 4. [Lists](#Lists)\n",
    " 5. [Quotes](#Quotes)\n",
    " 6. [Fancy Stuff](#Fancy-Stuff)\n",
    "3. [Code Cells](#Code-Cells-⤴)\n",
    " 1. [Run Order](#Run-Order)\n",
    " 2. [Commenting](#Commenting)\n",
    "4. [Python](#Python-⤴)\n",
    "5. [When You're All Done](#When-You're-All-Done-⤴)\n",
    " 1. [Saving](#Saving)\n",
    " 2. [Closing Jupyter](#Closing-Jupyter)"
   ]
  },
  {
   "cell_type": "markdown",
   "metadata": {},
   "source": [
    "## Notebook Layout\n",
    "\n",
    "Let's start at the start.\n",
    "\n",
    "Notebooks are broken up into \"Cells\"."
   ]
  },
  {
   "cell_type": "markdown",
   "metadata": {},
   "source": [
    "## Cells?\n",
    "\n",
    "Cells are just the name for the \"bits\" in a Notebook. You'll notice that the block above has a blue border around it; that's because it's currently active. You can click or navigate with the arrow keys to select any others.\n",
    "\n",
    "When opening a notebook, each cell will automatically compile or \"run\", giving its appropriate output. This cell known as a \"Markdown\" cell, and when compiled, it turns a bunch of symbols and unformatted text into what you can see right now. To see what it look like before compilation, make sure it's active, and press **Enter** on your keyboard. If it's being edited, its border turns green.\n",
    "\n",
    "To compile again, **hold Control and press Enter**.\n",
    "\n",
    "You can freely toggle between these modes to see how your text is looking.\n",
    "\n",
    "You only have 2 kinds of cells to choose from. The other kind you'll need to worry about is \"Code\", but we'll get to that in a little bit.\n",
    "\n",
    "***\n",
    "\n",
    "You can add your own cells by going to the top of the screen here and clicking the plus button on the left of your toolbar.\n",
    "\n",
    "**Try it yourself: make sure this cell is active with a blue border around it, then press the plus button.**"
   ]
  },
  {
   "cell_type": "markdown",
   "metadata": {},
   "source": [
    "Good.\n",
    "\n",
    "To remove the cell, make sure it's active and click the little pair of scissors to the right of the plus button. **Be warned**, there is no undo except for your last action, so be careful with what you go about deleting. It's much better to get in the habit of just saving your workbook as often as possible with Ctrl+S. If you need to revert to a past save after accidentally deleting something, just go to File -> Revert to Checkpoint.\n",
    "\n",
    "By default, a newly added cell will be of the \"Code\" type, but you can change that by going to the dropdown in the middle of your toolbar that reads **Code**. I told a little lie before and said there are 2 kinds of cells; really, there are 4, but **Heading** cells are deprecated (no longer supported and about to be gotten rid of) and **Raw NBConvert** is completely pointless and unnecessary for anything we need to do. For a nifty shortcut to jump between cell types, press **M** for Markdown, and **Y** for Code, but this only works when a cell is active but *not* in edit mode (blue border, not green).\n",
    "\n",
    "For now, let's take a look at **Markdown** cells."
   ]
  },
  {
   "cell_type": "markdown",
   "metadata": {},
   "source": [
    "## \"Markdown\"?!\n",
    "\n",
    "Markdown is the (ironic) name given to the markup language that Jupyter uses to format text. You don't have font settings here, nor do you need to faff around with menus at the top of the screen. Everything you need can be done right inside of these cells by using various symbols and arrangements.\n",
    "\n",
    "Instead of ranting about all the characters used, I'm going to get you to do all the work..."
   ]
  },
  {
   "cell_type": "markdown",
   "metadata": {},
   "source": [
    "***\n",
    "***\n",
    "***\n",
    "\n",
    "# Markdown Styles [⤴](#Contents)\n",
    "\n",
    "## Body Text\n",
    "\n",
    "\"Body\" text is just the name given to unformatted, plain old text, but you can add emphasis and weight using either asterisks, \\*, or underscores \\_. You'll find a lot of Markdown can use different symbols to achieve the same thing.\n",
    "\n",
    "***"
   ]
  },
  {
   "cell_type": "markdown",
   "metadata": {},
   "source": [
    "### *Give it a go*\n",
    "\n",
    "In this cell, jump into edit mode (Enter), and **try surrounding some words with asterisks** (i.e. <- Like this). You should see the text update accordingly, and you can always compile with Ctrl+Enter to have a quick look at the finished product. ___nice___"
   ]
  },
  {
   "cell_type": "markdown",
   "metadata": {},
   "source": [
    "***\n",
    "\n",
    "Did you try adding more than one asterisk at each end?\n",
    "\n",
    "You'll find different numbers give different effects:<br>\n",
    "`*` - *italic*<br>\n",
    "`**` - **bold**<br>\n",
    "`***` - ***emphasis***\n",
    "\n",
    "Now, you could try using underscores, \\_, instead.\n",
    "\n",
    "***\n",
    "\n",
    "Making sense?<br>\n",
    "You could always cheat a little and jump into edit mode in any of the cells in this Notebook and look at how the formatting is done.<br>\n",
    "\n",
    "If you were to look in this cell, for example, you'd see some other things going on. For instance, there are a bunch of backticks, \\` (**not** an apostrophe, this is the button to the left of 1 that no one uses because what the pyjamas is that backwards, sideways L for). These backticks are useful for suppressing Markdown's formatting, but in reality, they're for \"inline quotes\" (we'll do them in a bit). To **properly** suppress Markdown's interpretation of symbols, you need to \"escape\" each and every one with a backslash, \\\\. For example, \\* \\*\\* \\_ \\_\\_ \\`."
   ]
  },
  {
   "cell_type": "markdown",
   "metadata": {},
   "source": [
    "***\n",
    "\n",
    "## Structure\n",
    "\n",
    "\n",
    "\n",
    "\n",
    "\n",
    "\n",
    "\n",
    "\n",
    "\n",
    "\n",
    "\n",
    "\n",
    "\n",
    "\n",
    "\n",
    "\n",
    "\n",
    "\n",
    "\n",
    "\n",
    "\n",
    "\n",
    "\n",
    "\n",
    "\n",
    "\n",
    "\n",
    "\n",
    "\n",
    "\n",
    "\n",
    "\n",
    "\n",
    "Another thing you might see is the odd `<br>` scattered about. This stands for \"line **br**eak\", and tells Markdown that you want a new line. If you were to just press enter a bunch of times, it would only listen to the first two, interpreting that you would like a new paragraph; anything beyond that is just ignored. Jump into edit mode for this cell if you don't believe me.\n",
    "\n",
    "***"
   ]
  },
  {
   "cell_type": "markdown",
   "metadata": {},
   "source": [
    "### *Give it a go*\n",
    "\n",
    "**Try separating these paragraphs *more* than just one line** (hint: you can chain several `<br>`'s back-to-back):\n",
    "\n",
    "---\n",
    "\n",
    "**Paragraph 1:** Lorem ipsum dolor sit amet, consectetur adipiscing elit...<br><br>\n",
    "**Paragraph 2:** Nullam vehicula rhoncus vulputate. Nulla fringilla, quam vel..."
   ]
  },
  {
   "cell_type": "markdown",
   "metadata": {},
   "source": [
    "***\n",
    "***\n",
    "\n",
    "## Headings\n",
    "\n",
    "Good, so we can structure our text and make it look pretty.\n",
    "\n",
    "Jumping in and out of these cells, you've probably already seen how headings work. If you want to add headings to your pages, use the hash symbol, #, *followed by a space*. The more you string together, the smaller the heading, up to level 6.\n",
    "\n",
    "***"
   ]
  },
  {
   "cell_type": "markdown",
   "metadata": {},
   "source": [
    "### *Give it a go*\n",
    "# Movies\n",
    "## Generes\n",
    "### Never See\n",
    "#### *Movies that are not Shrek*\n",
    "**Make some headings, giving them different levels**"
   ]
  },
  {
   "cell_type": "markdown",
   "metadata": {},
   "source": [
    "***\n",
    "\n",
    "### Bonus Round: Links\n",
    "\n",
    "An extra thing to mention about Headings, that you may or may not have noticed, is when you hover over them, the Paragraph symbol appears (backwards funky P, ¶, or \"Pilcrow\" if you're feeling extra fruity). This is Markdown telling you that the heading can be linked to via \"anchoring.\" That stuff strays into a whole world of making internal links in Notebooks; if you're interested in that, check out the contents cell at start of this page and see if you can deconstruct it, but it's not necessary.\n",
    "\n",
    "In general, you have three ways of making links.\n",
    "\n",
    "https://www.JustUsingLinkTextItself.co.uk\n",
    "\n",
    "[Inline](Some destination) `= [Text to display](Link destination)`\n",
    "\n",
    "[Referenced Later][1] `Check me out in edit mode. I'm defined at some other point in the Notebook (great for referencing when a source is used a number of times)`\n",
    "\n",
    "[1]:https://www.somewebpage.co.uk\n"
   ]
  },
  {
   "cell_type": "markdown",
   "metadata": {},
   "source": [
    "***\n",
    "***\n",
    "\n",
    "## Lists\n",
    "\n",
    "If you need to do any lists, you've got two options, ordered and *un*ordered. An ordered list is numerical, unordered is just bullet points.\n",
    "\n",
    "You start an ordered list as if you were typing it normally, by prefacing each list item with a number, a full-stop, and a space, (1. ). The number you use is completely ignored, you could start it with (198374389. ), and it would still increment one-by-one, starting from 1.\n",
    "\n",
    "Unordered lists just need a dash, -, and a space.\n",
    "\n",
    "***"
   ]
  },
  {
   "cell_type": "markdown",
   "metadata": {},
   "source": [
    "### *Give it a go*\n",
    "\n",
    "**Make an ordered and unordered list, each with a few items.**\n",
    "\n",
    "- fight\n",
    "- run\n",
    "- happy\n",
    " 1. happy"
   ]
  },
  {
   "cell_type": "markdown",
   "metadata": {},
   "source": [
    "***\n",
    "\n",
    "That's all well and good, but what if we want to go further, nesting lists or adding text to further explain points?\n",
    "\n",
    "Nesting is easy enough, just do the list a space in from the edge:\n",
    "```\n",
    "1. First element\n",
    " - Sub-point\n",
    " - Sub-point\n",
    "2. Second element\n",
    " 1. Nested list\n",
    " 2. Blah\n",
    " 3. ...\n",
    "```\n",
    "\n",
    "Adding text that's aligned with the points is just another case of indenting:\n",
    "```\n",
    "1. Element\n",
    "\n",
    "    Section of body text explaining the element, perhaps with *formatting*\n",
    "```\n",
    "\n",
    "**Go back to the lists you made before and try annotating them, adding some nested elements**"
   ]
  },
  {
   "cell_type": "markdown",
   "metadata": {},
   "source": [
    "***\n",
    "\n",
    "## Quotes\n",
    "\n",
    "That's pretty much all the basics, the only other bit that might be useful is quotes.\n",
    "\n",
    "### Inline/Multiline\n",
    "We've already seen inline quotes by using backticks. Multi-line quotes also use backticks, but three of them above and below your quote:\n",
    "\n",
    "\\`\\`\\`\n",
    "```\n",
    "I'm\n",
    "a multiline\n",
    "quote\n",
    "```\n",
    "\\`\\`\\`\n",
    "### Block\n",
    "\n",
    "Block-quotes stand distinct from the body text and are done by prefacing each and every line of the quote with a right arrow, >:\n",
    "\n",
    "```\n",
    "> I'm\n",
    "> a\n",
    "> block\n",
    "> quote\n",
    "```\n",
    "\n",
    "These are the best things for presenting your code as text (note, it *will not* run from here, that's what code cells are for):\n",
    "\n",
    ">```python\n",
    ">if condition:\n",
    ">   print(\"Hello World!\")\n",
    ">```\n",
    "\n",
    "Clear, distinct, and preserves indentation when used in combination with backticks (look at the sneaky trick of including the \"python\" keyword after the opening \"fence\" (triple-\\`), this tells Markdown to syntax highlight your code, which means important keywords are coloured to make them stand out, i.e. if, for, else, functions). You don't *have* to use the \\> block quote system for code, you can just use a multi-line quote, up to you.\n",
    "\n",
    "***"
   ]
  },
  {
   "cell_type": "markdown",
   "metadata": {},
   "source": [
    "### *Give it a go*\n",
    "\n",
    "**Try writing a small bit of code and putting it into a block-quote**\n",
    "\n",
    ">```python\n",
    ">if shiner:\n",
    ">   print('ouch')\n",
    ">```\n",
    "```\n",
    "Woah\n",
    "```"
   ]
  },
  {
   "cell_type": "markdown",
   "metadata": {},
   "source": [
    "***\n",
    "***\n",
    "\n",
    "## Fancy Stuff\n",
    "\n",
    "Everything we've looked at so far, except`<br>` tags, has been pretty vanilla. That is, it's using basic Markdown syntax.\n",
    "<br>\n",
    "Markdown can also be used as a window into other languages.\n",
    "\n",
    "I won't ask you to try and replicate this, I'm just bunging it here so you're aware of what is possible if you end up scratching your head trying to do something a bit different. Really, though, this is pretty off-piste.\n",
    "\n",
    "### LaTeX\n",
    "\n",
    "Something you might come across is the need to embed maths into your writing. You do this just by wrapping it in dollar signs, \\\\$. In-line math just uses 1 either side, $x + y$. More complicated stuff takes double-\\\\$s and displays as a multi-line block: \n",
    "\n",
    "$$\\int_{0}^{2\\pi} {blah}^2 \\mathop{\\mathrm{d}x} + \\sum blah = \\frac{Math}{Stuff}$$\n",
    "\n",
    "If you look at what I've written in those double-\\$s, you'll see it's a completely different kind of thing. This is actually written in LaTeX, another typesetting language that is heavily employed in the sciences, hence its powerful maths language. This is then parsed into a MathJAX object, making it look pretty.\n",
    "\n",
    "$$\n",
    "\\left[\n",
    "\\begin{matrix}\n",
    "1 & 0 & t_x\\\\\n",
    "0 & 1 & t_y\\\\\n",
    "0 & 0 & 1\n",
    "\\end{matrix}\n",
    "\\right]\n",
    "$$\n",
    "\n",
    "LaTeX math is a whole thing unto itself, so I'd head [here](https://www.latex-tutorial.com/tutorials/amsmath/) if you were wanting to do this stuff.\n",
    "\n",
    "### HTML\n",
    "\n",
    "Let's have another look at the `<br>` tag. It's not like the other implementations: it's its own little unit, wrapped in arrows. The practice of encapsulating things like this is ***heavily*** implemented in HTML, and that's actually the secret to Markdown. Everything you're writing here is converted to HTML format, and the best bit is, you don't need to know a smidge of HTML to use it. The only time a sliver of HTML sneaks into Markdown is with the `<br>` tag.\n",
    "\n",
    "If you were well-versed in HTML, you could actually write this whole notebook using tags and attributes, since that's all Markdown eventually turns into.\n",
    "\n",
    "Some things can't be done in basic Markdown (you may come across other versions that do smarter things). For instance, if you were wanting to do a complex table, then HTML is where to look:\n",
    "\n",
    "<table>\n",
    "    <tr>\n",
    "        <th>Header</th><th colspan=2>Header</th>\n",
    "    </tr>\n",
    "    <tr>\n",
    "        <td>Value</td><td>Value</td><td>Value</td>\n",
    "    </tr>\n",
    "</table>\n",
    "\n",
    "Or, maybe using attributes to colour your text:\n",
    "\n",
    "<font color=\"red\">Red text</font><font color=\"#00FF00\">Green text</font><font style=\"color:rgb(0,0,255);\">Blue text</font>\n",
    "\n",
    "If you are venturing down this path, though, I highly recommend using W3C schools for help with HTML https://www.w3schools.com/html/"
   ]
  },
  {
   "cell_type": "markdown",
   "metadata": {},
   "source": [
    "## Bit Overwhelmed?\n",
    "\n",
    "Don't worry about it.\n",
    "<br>Markdown is an entire typesetting language in itself that, as we just saw, plucks practices and syntaxes\n",
    "from numerous others (HTML, LaTeX...), so it's actually pretty nasty to completely get to grips with.\n",
    "\n",
    "I've just given a brief overview of a few things you can do, you by no means need to have mastered Markdown to make a \"good\" Notebook. As long as you know that Markdown cells are where you're going to be doing all your wordy typing, then that's more than enough to get your Notebook off the ground.\n",
    "\n",
    "Any Googling will show you tons of pages to help out with Markdown, and there are always people asking questions on how to do particularly niche things, so don't be afraid to just bung what you're trying to do in the search bar and see what comes back."
   ]
  },
  {
   "cell_type": "markdown",
   "metadata": {},
   "source": [
    "***\n",
    "***\n",
    "***\n",
    "\n",
    "# Code Cells [⤴](#Contents)\n",
    "\n",
    "Enough about words, they're boring. The cool thing about Notebooks is its way of presenting code in clear chunks, where you can split it up with reasoning and explanations.\n",
    "\n",
    "Jupyter can run and host many different languages, but we're going to be focusing on Python. If you look in the top right of your window, you can see what \"kernel\" you're running. A kernel is basically a core of our program, where Jupyter gives us an interface to make the kernel do stuff.\n",
    "\n",
    "For instance:"
   ]
  },
  {
   "cell_type": "code",
   "execution_count": 1,
   "metadata": {},
   "outputs": [
    {
     "name": "stdout",
     "output_type": "stream",
     "text": [
      "Hello world!\n"
     ]
    }
   ],
   "source": [
    "print(\"Hello world!\")"
   ]
  },
  {
   "cell_type": "markdown",
   "metadata": {},
   "source": [
    "Like Markdown cells, Code cells need to be run to process their code. The snippet above is as simple as it gets. We tell Python to print \"Hello world!\", and the kernel does as it's told.\n",
    "\n",
    "Remember, this Notebook has already run all of its cells. To run any of your own code, or to take any changes into account, make sure you re-run any cells with Ctrl+Enter.\n",
    "\n",
    "**Try putting something else in the print statement above and run it to see the output.**"
   ]
  },
  {
   "cell_type": "markdown",
   "metadata": {},
   "source": [
    "## Run Order\n",
    "\n",
    "I'm sneaking this point in early, because it is ***key***. You can put as much or as little into the code cells as you want, the *most important* thing to remember is the order that your cells appear.\n",
    "\n",
    "If you're new to coding, you might get into the habit of bunging things in places until they work, and a Notebook gives you a sneaky way of making things work when they really shouldn't."
   ]
  },
  {
   "cell_type": "code",
   "execution_count": 2,
   "metadata": {},
   "outputs": [],
   "source": [
    "string = \"Boop\""
   ]
  },
  {
   "cell_type": "code",
   "execution_count": 3,
   "metadata": {},
   "outputs": [
    {
     "name": "stdout",
     "output_type": "stream",
     "text": [
      "Boop\n"
     ]
    }
   ],
   "source": [
    "print(string)"
   ]
  },
  {
   "cell_type": "markdown",
   "metadata": {},
   "source": [
    "The above two cells behave as expected.\n",
    "\n",
    "In the first cell, I have defined the variable `string` to equal `\"Boop\"`.\n",
    "<br>\n",
    "In the second, I tell Python to print my variable.\n",
    "\n",
    "***\n",
    "\n",
    "### *Give it a go*\n",
    "\n",
    "I've given you two Code cells below.\n",
    "\n",
    "1. In the **first**, write\n",
    "        print(string2)\n",
    "2. Run it (Ctrl+Enter)\n",
    "3. Error? Good. What that's telling us is that the variable we're trying to print doesn't exist yet.\n",
    "4. In the **second** cell, define `string2`. For example, the same as above, we just put\n",
    "        string2 = \"Blah\"\n",
    "5. Run this cell. It should look like a whole lot of nothing just happened.\n",
    "6. Now, go back to the first code cell and give it another run.\n",
    "7. Worked this time? Now our variable exists in the kernel, when we tell it to print, it knows exactly what we mean.\n",
    "    The only thing is, this is backwards. If we were to write these two lines consecutively in the same cell, it wouldn't work.\n",
    "8. To prove it, go to the top of the window and click the little rotating arrow that reads **Restart the kernel**.\n",
    "    A warning box will appear to confirm your actions, just click **Restart**.\n",
    "9. We've now made the kernel forget everything we've told it up to this point. To run all the cells in consecutive order: back at the top of the window, go to the **Cell** menu and click **Run All**\n",
    "10. Surprise surprise, the error is back. We can fix it by just running the second cell again, but for all intents and purposes, this Notebook is broken and not fit to submit. We **need** to define our variable *before* we try and use it.\n",
    "11. Select the **Second** code cell to activate it. Then, in the toolbar once more, you can see an up arrow, and a down arrow. These are used to reorder cells. Just click the **Up** arrow once to shift our variable declaration above its reference.\n",
    "12. Go back to the **Cell** menu, and click **Run all** for a second time. This time, it works, and will continue to work for *anyone* who opens your Notebook from scratch (namely, the person marking your work, and the same person who doesn't want to see a bunch of errors)"
   ]
  },
  {
   "cell_type": "code",
   "execution_count": 4,
   "metadata": {},
   "outputs": [],
   "source": [
    "string2 = \"Blah\""
   ]
  },
  {
   "cell_type": "code",
   "execution_count": 5,
   "metadata": {},
   "outputs": [
    {
     "name": "stdout",
     "output_type": "stream",
     "text": [
      "Blah\n"
     ]
    }
   ],
   "source": [
    " print(string2)"
   ]
  },
  {
   "cell_type": "markdown",
   "metadata": {},
   "source": [
    "Might seem like an obvious thing to avoid, but you'd be surprised how often people forget to check their Notebook *properly* by restarting the kernel and re-running their code."
   ]
  },
  {
   "cell_type": "markdown",
   "metadata": {},
   "source": [
    "***\n",
    "***\n",
    "\n",
    "## Commenting\n",
    "\n",
    "Right, now that the strict stuff is out the way, we can look at Python itself.\n",
    "\n",
    "Jupyter is all about Cells, giving you plenty of opportunity to explain things and rant on about whatever. However, code can get messy, and logic that seems obvious to you might not stand out to someone else (and that someone else is usually someone you're trying to make friends with as they're giving you your marks).\n",
    "\n",
    "Comments are your friend when being assessed. Python in particular has many avenues for commenting.\n",
    "\n",
    "### Block\n",
    "\n",
    "Block comments are easy, just bung a hash, #, in the line, and *everything* after that up until the end of the physical line is taken as text to be ignored during runtime. For reasons to do with Python's interpretation of \"white-space\", or indentations, you can't have in-line comments that start and stop in the same line and expect code after it to run.\n",
    "\n",
    "Example:\n",
    "\n",
    ">```python\n",
    ">#This print statement will never run. print(\"Hello World!\")\n",
    "print(\"Hello World!\") #This one will\n",
    ">```"
   ]
  },
  {
   "cell_type": "code",
   "execution_count": null,
   "metadata": {},
   "outputs": [],
   "source": [
    "# If statement to call print function\n",
    "if True:\n",
    "    print(\"Boop\") # Prints \"Boop\""
   ]
  },
  {
   "cell_type": "markdown",
   "metadata": {},
   "source": [
    "This is definitely overkill, but I'm just showing the use of comments, rather than the *appropriate* use of comments. I go over style in a little bit.\n",
    "\n",
    "### Docstrings\n",
    "\n",
    "A docstring is used to annotate a function, and fancier IDEs (Integrated Development Environments) can actually pull these out and provide definitions for the functions when you try to use them.\n",
    "\n",
    "Docstrings *can* be placed anywhere else for multi-line comments, but don't. If a block comment requires multiple lines, then just keep prefacing your lines with hashes."
   ]
  },
  {
   "cell_type": "code",
   "execution_count": null,
   "metadata": {},
   "outputs": [],
   "source": [
    "def someFunction():\n",
    "    \"\"\"This function does some stuff and I'm a docstring and loving life #justdocstringthings\"\"\"\n",
    "    \n",
    "    #<Function content here>\n",
    "    \n",
    "    return\n",
    "\n",
    "\n",
    "print( someFunction.__doc__ )\n",
    "    \n",
    "    "
   ]
  },
  {
   "cell_type": "markdown",
   "metadata": {},
   "source": [
    "### *Give it a go*\n",
    "\n",
    "Here's a bit of code. Add a docstring for what you think is going on in the function, and annotate the steps of logic."
   ]
  },
  {
   "cell_type": "code",
   "execution_count": 6,
   "metadata": {},
   "outputs": [
    {
     "data": {
      "text/plain": [
       "True"
      ]
     },
     "execution_count": 6,
     "metadata": {},
     "output_type": "execute_result"
    }
   ],
   "source": [
    "def isSquareNumber( x ):\n",
    "    \"\"\"This a function to tell if there is a square root of an integer\"\"\"\n",
    "    \n",
    "    if type( x ) != int: #This error will be given if the number input is not an integer\n",
    "        raise TypeError( \"x is not an integer\" )\n",
    "     \n",
    "    if x < 0: #This error will be given if the number input is a negative\n",
    "        raise ValueError( \"Negative numbers have no roots\" )\n",
    "    elif x == 0:\n",
    "        return True\n",
    "    \n",
    "    return ( x ** 0.5 ).is_integer()\n",
    "    \n",
    "isSquareNumber( 9 )"
   ]
  },
  {
   "cell_type": "markdown",
   "metadata": {},
   "source": [
    "**Below is how I would annotate it for production.**"
   ]
  },
  {
   "cell_type": "markdown",
   "metadata": {},
   "source": [
    "```python\n",
    "def isSquareNumber( x ):\n",
    "    \"\"\"Returns boolean as to whether input is a perfect square.\"\"\"\n",
    "    \n",
    "    #Check value is valid\n",
    "    if type( x ) != int: # Int check\n",
    "        raise TypeError( \"x is not an integer\" )\n",
    "     \n",
    "    if x < 0: # Positivity\n",
    "        raise ValueError( \"Negative numbers have no roots\" )\n",
    "    elif x == 0: # Pass if calculation unnecessary\n",
    "        return True\n",
    "    \n",
    "    return ( x ** 0.5 ).is_integer()\n",
    "    \n",
    "isSquareNumber( 9 )\n",
    "```"
   ]
  },
  {
   "cell_type": "markdown",
   "metadata": {},
   "source": [
    "### What to use, and When to use it\n",
    "\n",
    "There are various style guides that try to dictate how you should write your code, and it'd be a good idea to look at a few of them to see what is classed as \"clear\". You'll naturally develop your own style as you get more proficient at coding, but it's easier to learn good habits now, rather than forget bad habits later.\n",
    "\n",
    "[Here](https://www.python.org/dev/peps/pep-0008/) is ***a*** style guide for Python, and not the only one. But, since it's endorsed by those that make the language, it possibly has some more weight to it.\n",
    "\n",
    "There's a [section](https://www.python.org/dev/peps/pep-0008/#comments) there specifically dealing with comments. Take from it what you will, but typically, block quotes are notes, docstrings are formal documentation. Try and keep the one-liner notes focusing on the **why**, rather than the the **what**. For instance:\n",
    "\n",
    ">```python\n",
    "> No:\n",
    "> x = x + 1 # Increment x by 1\n",
    ">\n",
    ">Yes:\n",
    "> x = x + 1 # Account for size offset\n",
    ">```\n",
    "\n",
    "Avoid commenting on every single little piece, and perhaps summarise a section with a short block quote at the top instead. If your code can speak for itself, then let it.\n",
    "\n",
    "Keep your docstrings focused on what the function is supposed to return.\n",
    "\n",
    ">```python\n",
    "> No:\n",
    "> def isSquareNumber():\n",
    ">    \"\"\"Works out if variable is valid by typechecking it as an integer, then check if value is negative or 0. Works out if it's a perfect square by square rooting the value and asserting if it is an integer. If it is, then the original value was a perfect square. If not, return false.\"\"\"\n",
    ">\n",
    ">     ...\n",
    ">\n",
    "> Yes:\n",
    "> def isSquareNumber()\n",
    ">    \"\"\"Returns boolean as to whether input is a perfect square.\"\"\"\n",
    ">\n",
    ">     ...\n",
    ">```\n",
    "\n",
    "Imagine you were going to use a function your friend had written. You want to glance at the docstring to check it's going to give you what you want; you don't care how it does it, you just want the return.\n",
    "\n",
    "\n",
    "***\n",
    "\n",
    "Different languages can also demand different things. For instance, my style is heavily influenced by Java and JavaScript which doesn't take indentation into account and brackets and braces are used abundantly. You'll notice I always give spaces inside parentheses and use a double new-line at each new code block. There's particular beef around these two practices, they're rather like marmite, but *really*, if it's readable, then it's readable. You just do you.\n",
    "\n",
    "***\n",
    "\n",
    "One last thing before we actually get to write some code.\n",
    "\n",
    "As you learn new-fangled things in Python, you might also be eager to cram as much as possible into fewer lines to look fancier. Go for it, but make sure the **what** and the **why** is still clear.\n",
    "\n",
    "#### Spot the difference:\n",
    ">```python\n",
    ">[print(x[0],math.sqrt(x[1])) for x in zip(i,j) for i,j in database]\n",
    ">```\n",
    "\n",
    "vs.\n",
    "\n",
    ">```python\n",
    ">for i, j in database:\n",
    ">    for x in zip( i, j ):\n",
    ">        print( x[0], math.sqrt( x[1] ) )\n",
    ">```\n",
    "\n",
    "Not only is the second just nicer to read, there's also space to actually comment your code at each point."
   ]
  },
  {
   "cell_type": "markdown",
   "metadata": {},
   "source": [
    "***\n",
    "***\n",
    "***\n",
    "\n",
    "# Python [⤴](#Contents)\n",
    "\n",
    "All that ranting, and we finally get to write some actual code.\n",
    "\n",
    "I've assumed some knowledge of the language in the previous examples, and I'm not going to venture wildly further into much else since this is just a intro. I will give us just a couple of exercises, though."
   ]
  },
  {
   "cell_type": "markdown",
   "metadata": {},
   "source": [
    "## Importing Packages\n",
    "\n",
    "Python has a lot of built-in methods, but you will undoubtedly need packages at some point.\n",
    "\n",
    "A common one is the `math` package, that (unsurprisingly) has a lot of mathsy stuff in it.\n",
    "<br>\n",
    "**I'm going to put two code cells here. I'm using the math package in the second cell, but it's up to you to import `math` in the first so that it works.** ***Don't forget to run the second cell again to see if what you wrote worked!***"
   ]
  },
  {
   "cell_type": "code",
   "execution_count": 7,
   "metadata": {},
   "outputs": [],
   "source": [
    "import math"
   ]
  },
  {
   "cell_type": "code",
   "execution_count": 8,
   "metadata": {},
   "outputs": [
    {
     "name": "stdout",
     "output_type": "stream",
     "text": [
      "[2.718281828459045, 7.38905609893065, 20.085536923187668, 54.598150033144236, 148.4131591025766]\n"
     ]
    }
   ],
   "source": [
    "x_list = [1, 2, 3, 4, 5]\n",
    "y_list = []\n",
    "\n",
    "for val in x_list:\n",
    "    y_list.append( math.exp( val ) )\n",
    "    \n",
    "print( y_list )"
   ]
  },
  {
   "cell_type": "markdown",
   "metadata": {},
   "source": [
    "So, I've taken a simple list and calculated $e^x$ of each value.\n",
    "\n",
    "I want more data than just those 5 values. I want to find the value of $e^x$ for values from 0 to 10, however, I don't just want the 10 values inbetween, I want greater detail. I want a **step** of 0.1.\n",
    "\n",
    "That would mean typing out each element of the array, but I'm lazy. That's *100* elements...\n",
    "\n",
    "There must be a better way of doing this. Python has the `range()` method that can be used to make a list.\n",
    "\n",
    "**Let's see what range(10) gives us**"
   ]
  },
  {
   "cell_type": "code",
   "execution_count": 9,
   "metadata": {},
   "outputs": [
    {
     "data": {
      "text/plain": [
       "[0, 1, 2, 3, 4, 5, 6, 7, 8, 9]"
      ]
     },
     "execution_count": 9,
     "metadata": {},
     "output_type": "execute_result"
    }
   ],
   "source": [
    "# range() returns an iterator, so we have to use list() to convert it to something we can read\n",
    "list( range( 10 ) )"
   ]
  },
  {
   "cell_type": "markdown",
   "metadata": {},
   "source": [
    "Cool. How about if I add in my step of 0.1?"
   ]
  },
  {
   "cell_type": "code",
   "execution_count": 10,
   "metadata": {},
   "outputs": [
    {
     "ename": "TypeError",
     "evalue": "'float' object cannot be interpreted as an integer",
     "output_type": "error",
     "traceback": [
      "\u001b[1;31m---------------------------------------------------------------------------\u001b[0m",
      "\u001b[1;31mTypeError\u001b[0m                                 Traceback (most recent call last)",
      "\u001b[1;32m<ipython-input-10-09101771d2b9>\u001b[0m in \u001b[0;36m<module>\u001b[1;34m\u001b[0m\n\u001b[1;32m----> 1\u001b[1;33m \u001b[0mlist\u001b[0m\u001b[1;33m(\u001b[0m \u001b[0mrange\u001b[0m\u001b[1;33m(\u001b[0m \u001b[1;36m0\u001b[0m\u001b[1;33m,\u001b[0m \u001b[1;36m10\u001b[0m\u001b[1;33m,\u001b[0m \u001b[1;36m0.1\u001b[0m \u001b[1;33m)\u001b[0m \u001b[1;33m)\u001b[0m\u001b[1;33m\u001b[0m\u001b[1;33m\u001b[0m\u001b[0m\n\u001b[0m",
      "\u001b[1;31mTypeError\u001b[0m: 'float' object cannot be interpreted as an integer"
     ]
    }
   ],
   "source": [
    "list( range( 0, 10, 0.1 ) )"
   ]
  },
  {
   "cell_type": "markdown",
   "metadata": {},
   "source": [
    "Well, we tried. The internal range function doesn't like floats.\n",
    "\n",
    "Next up, let's use numpy. It's basically `math` on steroids times a million. It extends loads of functionality, but actually, all we're going to use is `arange()` which supports floats.\n",
    "\n",
    "The problem is, as I said, I'm lazy. I don't want to type `numpy` all the time, I just want to use `np`.\n",
    "\n",
    "**How would I import `numpy` as `np`?**"
   ]
  },
  {
   "cell_type": "code",
   "execution_count": 11,
   "metadata": {},
   "outputs": [],
   "source": [
    "import numpy as np"
   ]
  },
  {
   "cell_type": "code",
   "execution_count": 12,
   "metadata": {},
   "outputs": [
    {
     "name": "stdout",
     "output_type": "stream",
     "text": [
      "[1.0, 1.1051709180756477, 1.2214027581601699, 1.3498588075760032, 1.4918246976412703, 1.6487212707001282, 1.822118800390509, 2.0137527074704766, 2.225540928492468, 2.45960311115695, 2.718281828459045, 3.0041660239464334, 3.320116922736548, 3.6692966676192444, 4.055199966844675, 4.4816890703380645, 4.953032424395115, 5.473947391727201, 6.0496474644129465, 6.68589444227927, 7.38905609893065, 8.16616991256765, 9.025013499434122, 9.974182454814724, 11.023176380641605, 12.182493960703473, 13.463738035001692, 14.879731724872837, 16.444646771097055, 18.174145369443067, 20.085536923187668, 22.197951281441636, 24.532530197109352, 27.112638920657893, 29.964100047397025, 33.11545195869231, 36.59823444367799, 40.4473043600674, 44.701184493300836, 49.40244910553019, 54.598150033144236, 60.340287597362, 66.68633104092515, 73.69979369959579, 81.45086866496814, 90.01713130052181, 99.48431564193386, 109.94717245212352, 121.51041751873497, 134.28977968493552, 148.4131591025766, 164.02190729990184, 181.27224187515122, 200.33680997479183, 221.40641620418717, 244.69193226422038, 270.42640742615276, 298.8674009670603, 330.2995599096489, 365.0374678653289, 403.4287934927351, 445.85777008251716, 492.7490410932563, 544.5719101259294, 601.8450378720822, 665.1416330443618, 735.0951892419732, 812.4058251675433, 897.8472916504184, 992.2747156050262, 1096.6331584284585, 1211.9670744925775, 1339.430764394418, 1480.2999275845464, 1635.984429995927, 1808.0424144560632, 1998.195895104119, 2208.347991887209, 2440.6019776245007, 2697.28232826851, 2980.9579870417283, 3294.4680752838403, 3640.9503073323585, 4023.872393822313, 4447.066747699858, 4914.768840299134, 5431.659591362978, 6002.912217261029, 6634.24400627789, 7331.973539155995, 8103.083927575384, 8955.292703482508, 9897.129058743927, 10938.019208165191, 12088.380730216988, 13359.726829661873, 14764.781565577294, 16317.60719801545, 18033.744927828524, 19930.370438230297]\n"
     ]
    }
   ],
   "source": [
    "x_list_NEW = np.arange( 0, 10, 0.1 )\n",
    "y_list_NEW = []\n",
    "\n",
    "for val in x_list_NEW:\n",
    "    y_list_NEW.append( math.exp( val ) )\n",
    "    \n",
    "print( y_list_NEW )"
   ]
  },
  {
   "cell_type": "markdown",
   "metadata": {},
   "source": [
    "***\n",
    "\n",
    "Good. I've now got a whole load of values. I now want to plot this.\n",
    "\n",
    "Don't worry, I've handled all the plotting, but I need my package. The one we use for graphing in python is **matplotlib**, in particular, the **pyplot** library included in the module. Not only that, I'm too lazy to keep typing pyplot all the time, so I've given it an alias of plt.\n",
    "\n",
    "**What do you need to put in the next code cell in order for my plot to appear?** (Look in edit mode of this cell if you're stuck)\n",
    "\n",
    "<!--\n",
    "The code needed here can either be `import matplotlib.pyplot as plt` or `from matplotlib import pyplot as plt`. Both will do the exact same thing.\n",
    "-->"
   ]
  },
  {
   "cell_type": "code",
   "execution_count": 13,
   "metadata": {},
   "outputs": [],
   "source": [
    "import matplotlib.pyplot as plt"
   ]
  },
  {
   "cell_type": "code",
   "execution_count": 14,
   "metadata": {
    "scrolled": false
   },
   "outputs": [
    {
     "data": {
      "image/png": "[encoded data removed]",
      "text/plain": [
       "<Figure size 432x288 with 1 Axes>"
      ]
     },
     "metadata": {
      "needs_background": "light"
     },
     "output_type": "display_data"
    }
   ],
   "source": [
    "plt.plot(\n",
    "    x_list_NEW,\n",
    "    y_list_NEW\n",
    ")\n",
    "plt.show()"
   ]
  },
  {
   "cell_type": "markdown",
   "metadata": {},
   "source": [
    "Great. So we've used `math`, `numpy`, and `matplotlib` to generate, manipulate, and plot our data."
   ]
  },
  {
   "cell_type": "markdown",
   "metadata": {},
   "source": [
    "***\n",
    "\n",
    "# When You're All Done [⤴](#Contents)\n",
    "\n",
    "## Saving\n",
    "\n",
    "Saving your Notebook can be a bit hands-off. You don't get a whole lot of say where the file ends up.\n",
    "\n",
    "If you click the little floppy disk icon in the toolbar (the button to the left of the + for you 00's generation), it will save the current state. Because you've opened this file, it'll save to the original location, no bother; however, if you've made your own Notebook, it's worth realising that the second you make it, it is saved to the root location you had open in the file browser when you clicked new. It won't behave the same as something like Word or Excel, where it hangs around \"unsaved\" until you save it for the first time and choose a location.<br>\n",
    "\n",
    "### If you're on a cluster PC\n",
    "\n",
    "An added twist on this if you're working on Jupyter on a Uni cluster PC is that the root location when you first opened Jupyter is actually unmodifiable, so (feel free to try it) when you make a new Notebook, it just comes back with a \"File Not Found\" error. You'll need to navigate to a folder you *do* have access to (i.e. Downloads, where we saved this Notebook). **WARNING**: All of the folders you can access via Jupyter are **local**, meaning the second you log off, there is a very high chance the file will be deleted. If you want to keep your work, you *need* to move the Notebook file from wherever you save it to your **M:** drive (the drive with your username as a name). This is your shared space and will remain untouched by any cleaning policies.\n",
    "\n",
    "## Closing Jupyter\n",
    "\n",
    "Once your stuff is saved and safely tucked away on your shared space, you need to close Jupyter. You might have noticed a second window when you first opened Jupyter. This is the command console that is hosting your Python Kernel. To *properly* close Jupyter, rather than leaving the process running in the background, simply click in the command console and press **Ctrl+C** a few times. This halts the process and shuts down the local server.\n"
   ]
  }
 ],
 "metadata": {
  "anaconda-cloud": {},
  "kernelspec": {
   "display_name": "Python 3",
   "language": "python",
   "name": "python3"
  },
  "language_info": {
   "codemirror_mode": {
    "name": "ipython",
    "version": 3
   },
   "file_extension": ".py",
   "mimetype": "text/x-python",
   "name": "python",
   "nbconvert_exporter": "python",
   "pygments_lexer": "ipython3",
   "version": "3.7.4"
  }
 },
 "nbformat": 4,
 "nbformat_minor": 2
}
